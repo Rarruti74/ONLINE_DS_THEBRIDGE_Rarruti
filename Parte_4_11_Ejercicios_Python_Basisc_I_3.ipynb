{
  "cells": [
    {
      "cell_type": "markdown",
      "metadata": {
        "id": "view-in-github",
        "colab_type": "text"
      },
      "source": [
        "<a href=\"https://colab.research.google.com/github/Rarruti74/ONLINE_DS_THEBRIDGE_Rarruti/blob/main/Parte_4_11_Ejercicios_Python_Basisc_I_3.ipynb\" target=\"_parent\"><img src=\"https://colab.research.google.com/assets/colab-badge.svg\" alt=\"Open In Colab\"/></a>"
      ]
    },
    {
      "cell_type": "markdown",
      "metadata": {
        "id": "YdzzTLxieAcr"
      },
      "source": [
        "![TheBridge_logo_RGB_color.jpg](attachment:TheBridge_logo_RGB_color.jpg)"
      ]
    },
    {
      "cell_type": "markdown",
      "metadata": {
        "id": "-u414s-CeAcw"
      },
      "source": [
        "![imagen](./img/ejercicios.png)"
      ]
    },
    {
      "cell_type": "markdown",
      "metadata": {
        "id": "wcd_-AV4eAc0"
      },
      "source": [
        "## EJERCICIOS PYTHON BASICO 3:\n",
        "## Operaciones matemáticas, comparación y booleanas"
      ]
    },
    {
      "cell_type": "markdown",
      "metadata": {
        "id": "BpEHT7b_eAc3"
      },
      "source": [
        "Completa los siguiente ejercicios, la solución completa a los mismos se publicarán en el repo del curso a lo largo del sprint. En algunos ejercicios se muestra la solución final, para que puedas comprobar que lo has hecho bien, pero lo importante es el código que generes. ¡Vaaamos, a ello...!"
      ]
    },
    {
      "cell_type": "markdown",
      "metadata": {
        "id": "HB7sjxIBeAc5"
      },
      "source": [
        "![ejercicio.png](./img/ejercicio.png)\n",
        "\n",
        "\n",
        "## Ejercicio 1\n",
        "Tenemos las siguientes variables:\n",
        "\n",
        "```Python\n",
        "A = 4\n",
        "B = \"Text\"\n",
        "C = 4.1\n",
        "```\n",
        "\n",
        "Comprueba:\n",
        "1. Si A y B son equivalentes\n",
        "2. Si A y C NO son equivalentes\n",
        "3. Si A es mayor que C\n",
        "4. Si C es menor o igual que A\n",
        "5. Si B NO es equivalente a C"
      ]
    },
    {
      "cell_type": "code",
      "execution_count": 10,
      "metadata": {
        "colab": {
          "base_uri": "https://localhost:8080/"
        },
        "id": "k9GLb4g2eAc8",
        "outputId": "3b1f61d4-141e-44ff-fc44-686089f9ee0b"
      },
      "outputs": [
        {
          "output_type": "stream",
          "name": "stdout",
          "text": [
            "Tenemos las siguientes variables:  A = 4 ; B ='Text' y C = 4.1\n",
            "Vamos a aplicar operaciones comparativas y verificar si son verdaderas (True) o falsas (False)\n",
            "¿Son equivalentes las variables A y B?  False\n",
            "¿Las variables A y C no son equivalentes?  True\n",
            "¿Es A mayor que C?  False\n",
            "¿Es C menor o igual que A?  False\n",
            "¿Es C una variable de tipo Float?  True\n"
          ]
        }
      ],
      "source": [
        "# Definidas unas variables comprobar mediante operaciones lógicas algunas relaciones entre ellas\n",
        "\n",
        "# Definimos las variables\n",
        "A = 4           # Una variable de tipo integer\n",
        "B = \"Text\"      # Una variable de tipo string\n",
        "C = 4.1         # Una variable de tipo Float\n",
        "\n",
        "# Imprimimos las variables\n",
        "print (\"Tenemos las siguientes variables:  A = 4 ; B ='Text' y C = 4.1\")\n",
        "\n",
        "print (\"Vamos a aplicar operaciones comparativas y verificar si son verdaderas (True) o falsas (False)\")\n",
        "print (\"¿Son equivalentes las variables A y B? \", A == B)\n",
        "print (\"¿Las variables A y C no son equivalentes? \", A != C)\n",
        "print (\"¿Es A mayor que C? \", A > C)\n",
        "print (\"¿Es C menor o igual que A? \", C <= A)\n",
        "print (\"¿Es C una variable de tipo Float? \", type (C) == float)\n"
      ]
    },
    {
      "cell_type": "markdown",
      "metadata": {
        "id": "YiJkPh7_eAc_"
      },
      "source": [
        "![ejercicio.png](./img/ejercicio.png)\n",
        "\n",
        "## Ejercicio 2\n",
        "Crea un programa donde se recojan dos inputs del usuario, y el output del programa sea si esos inputs son iguales o no"
      ]
    },
    {
      "cell_type": "code",
      "execution_count": 11,
      "metadata": {
        "colab": {
          "base_uri": "https://localhost:8080/"
        },
        "id": "pMN6KCI4eAdC",
        "outputId": "f3137d40-132d-4cb9-95df-d476c82f125a"
      },
      "outputs": [
        {
          "output_type": "stream",
          "name": "stdout",
          "text": [
            "!Vamos a verificar si dos elementos son iguales o no¡\n",
            "Introduce un primer elemento por teclado: 10\n",
            "Introduce un segúndo elemento por teclado: 10\n",
            "Los elementos son iguales\n"
          ]
        }
      ],
      "source": [
        "# Programa que recoje del usuario dos inputs/entradas y verifica si son iguales\n",
        "print (\"!Vamos a verificar si dos elementos son iguales o no¡\")\n",
        "elemento_1 = input (\"Introduce un primer elemento por teclado: \")\n",
        "elemento_2 = input (\"Introduce un segúndo elemento por teclado: \")\n",
        "# Vamos a comparar los elementos\n",
        "if elemento_1 == elemento_2:\n",
        "    print (\"Los elementos son iguales\")\n",
        "else:\n",
        "    print (\"Los elementos son diferentes\")"
      ]
    },
    {
      "cell_type": "markdown",
      "metadata": {
        "id": "gGI38W1GeAdE"
      },
      "source": [
        "![ejercicio.png](./img/ejercicio.png)\n",
        "\n",
        "## Ejercicio 3\n",
        "Mismo programa que en 2, pero en esta ocasión tienen que ser tres inputs y dos salidas. Una de las salidas que nos indique si todos son iguales, y la otra si al menos dos inputs sí que lo son"
      ]
    },
    {
      "cell_type": "code",
      "execution_count": 16,
      "metadata": {
        "colab": {
          "base_uri": "https://localhost:8080/"
        },
        "id": "Y-6TxWYUeAdG",
        "outputId": "5622070c-3be1-4aca-d3cb-fa538c7a48bc"
      },
      "outputs": [
        {
          "output_type": "stream",
          "name": "stdout",
          "text": [
            "!Vamos a verificar si los tres elementos son iguales o no¡\n",
            "Introduce un primer elemento por teclado: 10\n",
            "Introduce un segúndo elemento por teclado: 10\n",
            "Introduce un tercer elemento por teclado: 10\n",
            "Todos los elementos son iguales\n"
          ]
        }
      ],
      "source": [
        "# Programa que recoje del usuario tres inputs/entradas y verifica si todos son iguales o si al menos lo son dos\n",
        "print (\"!Vamos a verificar si los tres elementos son iguales o no¡\")\n",
        "elemento_1 = input (\"Introduce un primer elemento por teclado: \")\n",
        "elemento_2 = input (\"Introduce un segúndo elemento por teclado: \")\n",
        "elemento_3 = input (\"Introduce un tercer elemento por teclado: \")\n",
        "\n",
        "# Vamos a comparar los elementos\n",
        "if elemento_1 == elemento_2 == elemento_3:\n",
        "    print (\"Todos los elementos son iguales\")\n",
        "elif elemento_1 == elemento_2 or elemento_1 == elemento_3 or elemento_2 == elemento_3:\n",
        "    print (\"Al menos dos de los tres elementos son iguales\")\n",
        "else:\n",
        "    print (\"Parece que todos los elementos son diferentes\")"
      ]
    },
    {
      "cell_type": "markdown",
      "metadata": {
        "id": "Cboc0JBoeAdI"
      },
      "source": [
        "![ejercicio.png](./img/ejercicio.png)\n",
        "\n",
        "## Ejercicio 4\n",
        "Razona sin ejecutar código el output que obtendremos de las siguientes sentencias\n",
        "1. **True and True and False**    \n",
        "   (True and True) = True  \n",
        "   (True and False) = False  \n",
        "   Resultado = **False**\n",
        "2. **not ((True or False) and (True or False))**  \n",
        "   (True or False) = True  \n",
        "   not True = False  \n",
        "   (False and True) = False  \n",
        "   Resultado = **False**\n",
        "3. **(False or False or False or True) and False**  \n",
        "   (False or True) = True  \n",
        "   (True and False) = False  \n",
        "   Resultado = **False**\n",
        "4. **not False and True and not True**  \n",
        "   not False = True   \n",
        "   not True = False   \n",
        "   (True and True and False) = False como en 1.   \n",
        "   Resultado = **False**\n"
      ]
    },
    {
      "cell_type": "markdown",
      "metadata": {
        "id": "vnSMmzdUeAdJ"
      },
      "source": []
    }
  ],
  "metadata": {
    "kernelspec": {
      "display_name": "Curso_Online_DATA",
      "language": "python",
      "name": "python3"
    },
    "language_info": {
      "codemirror_mode": {
        "name": "ipython",
        "version": 3
      },
      "file_extension": ".py",
      "mimetype": "text/x-python",
      "name": "python",
      "nbconvert_exporter": "python",
      "pygments_lexer": "ipython3",
      "version": "3.11.5"
    },
    "orig_nbformat": 4,
    "colab": {
      "provenance": [],
      "include_colab_link": true
    }
  },
  "nbformat": 4,
  "nbformat_minor": 0
}