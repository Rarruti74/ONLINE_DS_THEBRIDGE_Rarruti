{
  "cells": [
    {
      "cell_type": "markdown",
      "metadata": {
        "id": "view-in-github",
        "colab_type": "text"
      },
      "source": [
        "<a href=\"https://colab.research.google.com/github/Rarruti74/ONLINE_DS_THEBRIDGE_Rarruti/blob/main/Parte_4_13_Practica_Obligatoria_Python_Basics_I.ipynb\" target=\"_parent\"><img src=\"https://colab.research.google.com/assets/colab-badge.svg\" alt=\"Open In Colab\"/></a>"
      ]
    },
    {
      "cell_type": "markdown",
      "metadata": {
        "id": "BNCAebJANPxq"
      },
      "source": [
        "![TheBridge_logo_RGB_color.jpg](attachment:TheBridge_logo_RGB_color.jpg)"
      ]
    },
    {
      "cell_type": "markdown",
      "metadata": {
        "id": "A9eDZvZaNPxs"
      },
      "source": [
        "![imagen](./img/ejercicios.png)"
      ]
    },
    {
      "cell_type": "markdown",
      "metadata": {
        "id": "59zPhBxXNPxs"
      },
      "source": [
        "## PRACTICA OBLIGATORIA: PYTHON"
      ]
    },
    {
      "cell_type": "markdown",
      "metadata": {
        "id": "mv2kb1GMNPxs"
      },
      "source": [
        "* La práctica obligatoria de esta unidad consiste en dos ejercicios de programación libre a completar.   \n",
        "* Recuerda que debes subirla a tu repositorio personal antes de la sesión en vivo para que puntúe adecuadamente.  \n",
        "* Recuerda también que no es necesario que esté perfecta, sólo es necesario que se vea el esfuerzo.\n",
        "* Esta práctica se resolverá en la sesión en vivo correspondiente y la solución se publicará en el repo del curso."
      ]
    },
    {
      "cell_type": "markdown",
      "metadata": {
        "id": "Kl9JzST2NPxt"
      },
      "source": [
        "![ejercicio.png](./img/ejercicio.png)\n",
        "## PARTE I\n",
        "\n",
        "En este ejercicio debes simular un chatbot al que le haremos pedidos de pizzas.\n",
        "\n",
        "1. El chatbot tiene que saludar con un: \"Buenas tardes, bienvenido al servicio de pedido online, el precio de nuestra pizzas es de 8,95 para la familiar o de 9,90 para la mediana ¿Cuántas pizzas  familiares desea?\"\n",
        "2. El ususario tiene que introducir un número de pizzas en una variable llamada 'pizz_familiar'\n",
        "3. El chatbot debe responder: \"Estupendo, ¿cuántas pizzas medianas desea?\" y guardar el número de pizzas medianas en otra variable 'pizz_mediana'\n",
        "4. Además debe responder del chatbot: \"Estupendo, se están preparando 'pizz' pizzas familiares y 'pizz_mediana' pizzas medianas. Digame su dirección\"\n",
        "5. El ususario tiene que introducir una direccion en formato String en otra variable llamada 'direcc'\n",
        "6. El programa debe calcular el monto total\n",
        "7. Respuesta final del chatbot: \"Le mandaremos las '(número total de pizzas)' pizzas a la dirección 'direcc'. Serán <precio total a pagar en euros>. Muchas gracias por su pedido.\"\n",
        "         \n"
      ]
    },
    {
      "cell_type": "code",
      "execution_count": 2,
      "metadata": {
        "id": "qkKibyt-NPxt",
        "colab": {
          "base_uri": "https://localhost:8080/"
        },
        "outputId": "108cf2f5-4da0-476e-c3a2-c37d4d702ce5"
      },
      "outputs": [
        {
          "output_type": "stream",
          "name": "stdout",
          "text": [
            "Buenas tardes, bienvenido al servicio de pedidos online de PizzaLine\n",
            "El precio de nuestra pizza tamaño familiar es de 8.95 euros\n",
            "El precio de nuestra pizza tamaño mediana es de 9.90 euros\n",
            "¿Cuántas pizzas familiares desea? 1\n",
            "!Estupendo!\n",
            "Tambíen tenemos pizzas medianas\n",
            "¿Cuántas pizzas medianas desea? 2\n",
            "!Estupendo, se están preparando 1 pizzas familiares y 2 pizzas medianas\n",
            "Dígame su dirección: Maloste 3 4D\n",
            "Le mandaremos las  3 pizzas a la dirección:  Maloste 3 4D\n",
            "El precio total es de 28.75 euros\n",
            "Muchas gracias por su pedido\n"
          ]
        }
      ],
      "source": [
        "# Programa PARTE I: Chatbot para pedido de pizzas\n",
        "# 1. Presentación de informacíon de productos\n",
        "print (\"Buenas tardes, bienvenido al servicio de pedidos online de PizzaLine\")\n",
        "print (\"El precio de nuestra pizza tamaño familiar es de 8.95 euros\")\n",
        "print (\"El precio de nuestra pizza tamaño mediana es de 9.90 euros\")\n",
        "\n",
        "# 2. Pedido de pizza familiar\n",
        "pizz_familiar = input (\"¿Cuántas pizzas familiares desea? \")\n",
        "pizz_familiar = int (pizz_familiar)\n",
        "\n",
        "if pizz_familiar == 0:\n",
        "  print (\"No has pedido ninguna pizza familiar\")\n",
        "else:\n",
        "  print (\"!Estupendo!\")\n",
        "\n",
        "# 3. Pedido pizza mediana\n",
        "print (\"Tambíen tenemos pizzas medianas\")\n",
        "pizz_mediana = input (\"¿Cuántas pizzas medianas desea? \")\n",
        "pizz_mediana = int (pizz_mediana)\n",
        "\n",
        "# 4. Resúmen de pedido\n",
        "print (\"!Estupendo, se están preparando\", pizz_familiar, \"pizzas familiares y\", pizz_mediana, \"pizzas medianas\")\n",
        "\n",
        "# 5. Solicitud de dirección de envío\n",
        "direcc = input (\"Dígame su dirección: \")\n",
        "pizz_total = pizz_familiar + pizz_mediana\n",
        "\n",
        "# 6. Cálculo del coste total\n",
        "precio_total = pizz_familiar * 8.95 + (pizz_mediana * 9.90)\n",
        "\n",
        "# 7. Confirmación de pedido\n",
        "print (\"Le mandaremos las \", pizz_total, \"pizzas a la dirección: \", direcc)\n",
        "print (\"El precio total es de\", precio_total, \"euros\")\n",
        "print (\"Muchas gracias por su pedido\")"
      ]
    },
    {
      "cell_type": "markdown",
      "metadata": {
        "id": "f0oqoGDGNPxt"
      },
      "source": [
        "![ejercicio.png](./img/ejercicio.png)\n",
        "## Parte II\n",
        "\n",
        "Crea un programa que realice las siguientes acciones:\n",
        "\n",
        "1. Solicite al usuario que introduzca 3 números enteros separados por comas (por ejemplo: 1,2,3).\n",
        "2. Convierta esa entrada en una lista de números enteros.\n",
        "3. Utilizando funciones built-in, determine el número máximo, el número mínimo y la suma total de los números introducidos.\n",
        "4. Determine la verdad o falsedad de la siguiente afirmación: \"El número máximo menos el número mínimo es igual a la suma total dividida por 5\".\n",
        "5. Muestre los resultados utilizando print."
      ]
    },
    {
      "cell_type": "code",
      "execution_count": 3,
      "metadata": {
        "id": "rAlpWiQ9NPxt",
        "colab": {
          "base_uri": "https://localhost:8080/"
        },
        "outputId": "f39d5e26-7352-49ac-978c-616189f5e6f0"
      },
      "outputs": [
        {
          "output_type": "stream",
          "name": "stdout",
          "text": [
            "Introduzca 3 números enteros separados por comas: 1,2,3\n",
            "Tenemos la siguiente lista de números enteros:  [1, 2, 3]\n",
            "El número máximo de la lista es: 3\n",
            "El número mínimo de la lista es: 1\n",
            "La suma total de los elementosnúmeros de la lista es: 6\n",
            "El número máximo menos el número mínimo es igual a la suma total dividida por 5\n",
            "La afirmación es falsa\n"
          ]
        }
      ],
      "source": [
        "# 1. Solicitud de inserción de valores\n",
        "lista = input (\"Introduzca 3 números enteros separados por comas: \")\n",
        "\n",
        "# 2. Convertir la entrada string en una lista de números enteros\n",
        "lista = lista.split (\",\")\n",
        "lista = [int (i) for i in lista]\n",
        "print (\"Tenemos la siguiente lista de números enteros: \", lista)\n",
        "# 3. Mediante funciones built-in, determinaremos de la lista\n",
        "print (\"El número máximo de la lista es:\", max (lista))\n",
        "print (\"El número mínimo de la lista es:\", min (lista))\n",
        "print (\"La suma total de los elementosnúmeros de la lista es:\", sum (lista))\n",
        "# 4. Determinar la verdad o falsedad de la suiente afirmación\n",
        "print (\"El número máximo menos el número mínimo es igual a la suma total dividida por 5\")\n",
        "if max (lista) - min (lista) == sum (lista) / 5:\n",
        "  print (\"La afirmación es verdadera\")\n",
        "else:\n",
        "  print (\"La afirmación es falsa\")"
      ]
    }
  ],
  "metadata": {
    "kernelspec": {
      "display_name": "Curso_Online_DATA",
      "language": "python",
      "name": "python3"
    },
    "language_info": {
      "codemirror_mode": {
        "name": "ipython",
        "version": 3
      },
      "file_extension": ".py",
      "mimetype": "text/x-python",
      "name": "python",
      "nbconvert_exporter": "python",
      "pygments_lexer": "ipython3",
      "version": "3.11.5"
    },
    "orig_nbformat": 4,
    "colab": {
      "provenance": [],
      "include_colab_link": true
    }
  },
  "nbformat": 4,
  "nbformat_minor": 0
}