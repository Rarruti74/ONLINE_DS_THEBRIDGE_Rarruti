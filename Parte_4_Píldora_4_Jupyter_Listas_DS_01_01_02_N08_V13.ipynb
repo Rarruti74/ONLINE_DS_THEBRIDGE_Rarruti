{
  "cells": [
    {
      "cell_type": "markdown",
      "metadata": {
        "id": "view-in-github",
        "colab_type": "text"
      },
      "source": [
        "<a href=\"https://colab.research.google.com/github/Rarruti74/ONLINE_DS_THEBRIDGE_Rarruti/blob/main/Parte_4_P%C3%ADldora_4_Jupyter_Listas_DS_01_01_02_N08_V13.ipynb\" target=\"_parent\"><img src=\"https://colab.research.google.com/assets/colab-badge.svg\" alt=\"Open In Colab\"/></a>"
      ]
    },
    {
      "cell_type": "markdown",
      "metadata": {
        "id": "fKW2w1PSX09z"
      },
      "source": [
        "<img src = \"./img/TheBridge_logo_RGB_color.jpg\" width = 500><img src = \"./img/python.jpg\" width = 500>"
      ]
    },
    {
      "cell_type": "markdown",
      "metadata": {
        "id": "rXeZ2XvZX092"
      },
      "source": [
        "# Python Basics I"
      ]
    },
    {
      "cell_type": "markdown",
      "metadata": {
        "id": "9KEIFEO5X094"
      },
      "source": [
        "## Contenidos"
      ]
    },
    {
      "cell_type": "markdown",
      "metadata": {
        "id": "1n6h8bgiX095"
      },
      "source": [
        "* [Listas\n",
        "](#Listas\n",
        ")\n"
      ]
    },
    {
      "cell_type": "markdown",
      "metadata": {
        "id": "-Iqa1h-WX097"
      },
      "source": [
        "## Listas\n",
        "[al indice](#Contenidos)  \n",
        "Se trata de otro de los tipos de datos de Python más usados. Dentro de las colecciones, que veremos más adelante, la lista es la colección que normalmente se le da más uso. **Nos permiten almacenar conjuntos de variables u objetos**, y son elementos de lo más versátiles puesto que podemos almacenar objetos de distintos tipos, modificarlos, eliminarlos, meter listas dentro de listas... Sus dos caractrísticas principales son:\n",
        "* **Mutables**: una vez se ha creado la lista, se puede modificar\n",
        "* **Ordenada**: Los elementos tienen un cierto orden, lo que nos permite acceder al elemento que queramos teniendo en cuenta tal orden\n",
        "\n",
        "En cuanto a su sintaxis, cuando declaremos la lista simplemente hay que separar cada elemento con comas, y rodearlo todo con corchetes."
      ]
    },
    {
      "cell_type": "code",
      "execution_count": 2,
      "metadata": {
        "id": "gKYzE7LCX098",
        "outputId": "f6fb2620-70c6-4510-98d0-ff7f59a8fa15",
        "colab": {
          "base_uri": "https://localhost:8080/"
        }
      },
      "outputs": [
        {
          "output_type": "stream",
          "name": "stdout",
          "text": [
            "[1, 3, 5, 6]\n",
            "<class 'list'>\n"
          ]
        }
      ],
      "source": [
        "# Lista de números\n",
        "lista_numeros = [1, 3, 5, 6]\n",
        "print (lista_numeros)\n",
        "print (type (lista_numeros))"
      ]
    },
    {
      "cell_type": "code",
      "execution_count": 3,
      "metadata": {
        "id": "8LSDOMenX099",
        "outputId": "0c9c2b31-1f6d-4df9-8813-d42163f111bb",
        "colab": {
          "base_uri": "https://localhost:8080/"
        }
      },
      "outputs": [
        {
          "output_type": "stream",
          "name": "stdout",
          "text": [
            "['Esto', 'es', 'una', 'lista']\n"
          ]
        }
      ],
      "source": [
        "# Lista de strings\n",
        "lista_string = [\"Esto\", \"es\", \"una\", \"lista\"]\n",
        "print (lista_string)\n"
      ]
    },
    {
      "cell_type": "code",
      "source": [
        "# Lista de booleanos\n",
        "lista_booleanos = [True, False, not True, True and False, False or True]\n",
        "print (lista_booleanos)\n"
      ],
      "metadata": {
        "id": "1x7wRZsHZaEP",
        "outputId": "0b60ce86-cfa9-439e-9944-8cb5e9c7b82e",
        "colab": {
          "base_uri": "https://localhost:8080/"
        }
      },
      "execution_count": 4,
      "outputs": [
        {
          "output_type": "stream",
          "name": "stdout",
          "text": [
            "[True, False, False, False, True]\n"
          ]
        }
      ]
    },
    {
      "cell_type": "code",
      "source": [
        "# Lista mixcelaneo\n",
        "lista_mix = [\"Esto es\", 24, -12, 10.5, True, \"lista\"]\n",
        "print (lista_mix)\n",
        "print (type (lista_mix))\n",
        "# lista dentro de lista\n",
        "lista_listas = [\"Gola\", \"12\", 10, [\"todo\", 25, False]]\n",
        "print (lista_listas)\n",
        "print (type (lista_listas))"
      ],
      "metadata": {
        "id": "C9sUg3XsZcHt",
        "outputId": "93cc8162-9eed-45f9-9cef-952136cc1e66",
        "colab": {
          "base_uri": "https://localhost:8080/"
        }
      },
      "execution_count": 8,
      "outputs": [
        {
          "output_type": "stream",
          "name": "stdout",
          "text": [
            "['Esto es', 24, -12, 10.5, True, 'lista']\n",
            "<class 'list'>\n",
            "['Gola', '12', 10, ['todo', 25, False]]\n",
            "<class 'list'>\n"
          ]
        }
      ]
    },
    {
      "cell_type": "code",
      "source": [
        "len (lista_listas)"
      ],
      "metadata": {
        "id": "4dKvypYybQcp",
        "outputId": "bd10ed7d-4a4b-40ff-fc6b-c5b8cb2a0b88",
        "colab": {
          "base_uri": "https://localhost:8080/"
        }
      },
      "execution_count": 9,
      "outputs": [
        {
          "output_type": "execute_result",
          "data": {
            "text/plain": [
              "4"
            ]
          },
          "metadata": {},
          "execution_count": 9
        }
      ]
    },
    {
      "cell_type": "code",
      "source": [
        "len (lista_mix)"
      ],
      "metadata": {
        "id": "2LBRnyk3cZFW",
        "outputId": "91c3c0e4-da6f-489d-eb83-71490778c82d",
        "colab": {
          "base_uri": "https://localhost:8080/"
        }
      },
      "execution_count": 10,
      "outputs": [
        {
          "output_type": "execute_result",
          "data": {
            "text/plain": [
              "6"
            ]
          },
          "metadata": {},
          "execution_count": 10
        }
      ]
    },
    {
      "cell_type": "code",
      "source": [
        "concatenacion = lista_mix + lista_string\n",
        "print (concatenacion)\n",
        "len (concatenacion)\n"
      ],
      "metadata": {
        "id": "-3ubOTatcttP",
        "outputId": "c28b904c-75ff-4180-b13d-560b3985a7e8",
        "colab": {
          "base_uri": "https://localhost:8080/"
        }
      },
      "execution_count": 12,
      "outputs": [
        {
          "output_type": "stream",
          "name": "stdout",
          "text": [
            "['Esto es', 24, -12, 10.5, True, 'lista', 'Esto', 'es', 'una', 'lista']\n"
          ]
        },
        {
          "output_type": "execute_result",
          "data": {
            "text/plain": [
              "10"
            ]
          },
          "metadata": {},
          "execution_count": 12
        }
      ]
    },
    {
      "cell_type": "code",
      "source": [
        "concatenacion2 = lista_string + lista_mix\n",
        "print (concatenacion2)"
      ],
      "metadata": {
        "id": "0iC9XIsldMEp",
        "outputId": "8a6fadef-029a-4226-cf1d-2d1ab3871e1f",
        "colab": {
          "base_uri": "https://localhost:8080/"
        }
      },
      "execution_count": 13,
      "outputs": [
        {
          "output_type": "stream",
          "name": "stdout",
          "text": [
            "['Esto', 'es', 'una', 'lista', 'Esto es', 24, -12, 10.5, True, 'lista']\n"
          ]
        }
      ]
    },
    {
      "cell_type": "markdown",
      "metadata": {
        "id": "VNpm0ru1X09-"
      },
      "source": [
        "**NOTA**: ¿Ves por qué los decimales en Python siempre van con puntos y no con comas? Con las colecciones el intérprete de Python se volvería loco.\n",
        "\n",
        "Podemos ver tambien el tipo de la lista"
      ]
    },
    {
      "cell_type": "code",
      "execution_count": 14,
      "metadata": {
        "id": "2HfCTtXAX09_",
        "outputId": "b7a4609b-36b0-41c1-f917-33844c1b9869",
        "colab": {
          "base_uri": "https://localhost:8080/"
        }
      },
      "outputs": [
        {
          "output_type": "stream",
          "name": "stdout",
          "text": [
            "<class 'list'>\n"
          ]
        }
      ],
      "source": [
        "print (type (lista_mix))"
      ]
    },
    {
      "cell_type": "markdown",
      "metadata": {
        "id": "vPYi5uVCX09_"
      },
      "source": [
        "Calcular la longitud de la misma mediante el método *built-in* ya visto: `len()`"
      ]
    },
    {
      "cell_type": "code",
      "execution_count": 15,
      "metadata": {
        "id": "poqPhyDnX0-A",
        "outputId": "49f4fb5e-d0e9-4644-db21-b92a5438d825",
        "colab": {
          "base_uri": "https://localhost:8080/"
        }
      },
      "outputs": [
        {
          "output_type": "execute_result",
          "data": {
            "text/plain": [
              "6"
            ]
          },
          "metadata": {},
          "execution_count": 15
        }
      ],
      "source": [
        "len (lista_mix)\n"
      ]
    },
    {
      "cell_type": "markdown",
      "metadata": {
        "id": "kYjFBZKTX0-A"
      },
      "source": [
        "Accedemos a los elemenos de la lista mediante corchetes `[]`\n",
        "\n",
        "**Importante**. El primer elemento es el 0"
      ]
    },
    {
      "cell_type": "code",
      "execution_count": 17,
      "metadata": {
        "id": "dwR_wjmMX0-B",
        "outputId": "2b28db9a-aa65-439f-895b-a109800ed1db",
        "colab": {
          "base_uri": "https://localhost:8080/"
        }
      },
      "outputs": [
        {
          "output_type": "stream",
          "name": "stdout",
          "text": [
            "Esto es\n",
            "una patata\n"
          ]
        }
      ],
      "source": [
        "lista_ejemplo = [\"Esto es\", 1, 2, 3, \"una patata\"]\n",
        "print (lista_ejemplo[0])\n",
        "print (lista_ejemplo[-1])"
      ]
    },
    {
      "cell_type": "markdown",
      "metadata": {
        "id": "G9rDWDodX0-B"
      },
      "source": [
        "### Metodos en Listas\n",
        "Para el tipo de objeto lista, también hay una serie de métodos catacterísticos que nos permiten operar con ellas: añadir valores, quitarlos, indexado, filtrado, etc... En [este enlace](https://www.w3schools.com/python/python_ref_list.asp) puedes encontrar todos los métodos que podrás usar con listas."
      ]
    },
    {
      "cell_type": "code",
      "execution_count": 24,
      "metadata": {
        "id": "Ic0NYqCEX0-B",
        "outputId": "9c950b64-1840-4c84-f6cc-e41bbd8c1eaa",
        "colab": {
          "base_uri": "https://localhost:8080/"
        }
      },
      "outputs": [
        {
          "output_type": "stream",
          "name": "stdout",
          "text": [
            "['Fisica', 'Quimica', 'Agebra', 'Matematicas']\n",
            "['Fisica', 'Quimica', 'Agebra', 'Matematicas', 'Biologia']\n",
            "['Fisica', 'Ingles', 'Quimica', 'Agebra', 'Matematicas', 'Biologia']\n",
            "['Fisica', 'Ingles', 'Quimica', 'Agebra', 'Matematicas', 'Biologia']\n",
            "['Fisica', 'Ingles', 'Quimica', 'Agebra', 'Matematicas', 'Biologia']\n",
            "['Fisica', 'Ingles', 'Quimica', 'Agebra', 'Biologia']\n",
            "['Agebra', 'Biologia', 'Fisica', 'Ingles', 'Quimica']\n"
          ]
        }
      ],
      "source": [
        "asignaturas = [\"Fisica\", \"Quimica\", \"Agebra\", \"Matematicas\"]\n",
        "print (asignaturas)\n",
        "# Nétodo para añadir elementos a la lista\n",
        "asignaturas.append (\"Biologia\")\n",
        "print (asignaturas)\n",
        "# Método para añadir elementos a la lista en una posición determinada\n",
        "asignaturas.insert (1, \"Ingles\")\n",
        "print (asignaturas)\n",
        "# Quitqr elementos\n",
        "# asignaturas.clear()\n",
        "print (asignaturas)\n",
        "# Quitar un elemento a partir de su índice o posición\n",
        "# asignaturas.pop (1)\n",
        "print (asignaturas)\n",
        "# Quitar un elemento concreto o valor\n",
        "asignaturas.remove (\"Matematicas\")\n",
        "print (asignaturas)\n",
        "# Método para ordenar la lista alfabéticamente\n",
        "asignaturas.sort ()\n",
        "print (asignaturas)\n",
        "\n",
        "\n"
      ]
    },
    {
      "cell_type": "code",
      "execution_count": null,
      "metadata": {
        "id": "Qh7NaaWcX0-C"
      },
      "outputs": [],
      "source": []
    },
    {
      "cell_type": "code",
      "execution_count": null,
      "metadata": {
        "id": "b0VYqioQX0-C"
      },
      "outputs": [],
      "source": []
    }
  ],
  "nbformat": 4,
  "nbformat_minor": 0,
  "metadata": {
    "kernelspec": {
      "display_name": "Python 3",
      "language": "python",
      "name": "python3"
    },
    "language_info": {
      "codemirror_mode": {
        "name": "ipython",
        "version": 3
      },
      "file_extension": ".py",
      "mimetype": "text/x-python",
      "name": "python",
      "nbconvert_exporter": "python",
      "pygments_lexer": "ipython3",
      "version": "3.8.3"
    },
    "colab": {
      "provenance": [],
      "include_colab_link": true
    }
  }
}